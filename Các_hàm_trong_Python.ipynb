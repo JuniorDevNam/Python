{
  "nbformat": 4,
  "nbformat_minor": 0,
  "metadata": {
    "colab": {
      "provenance": [],
      "authorship_tag": "ABX9TyMMfC4cThT5vgudiB8QSmy3",
      "include_colab_link": true
    },
    "kernelspec": {
      "name": "python3",
      "display_name": "Python 3"
    },
    "language_info": {
      "name": "python"
    }
  },
  "cells": [
    {
      "cell_type": "markdown",
      "metadata": {
        "id": "view-in-github",
        "colab_type": "text"
      },
      "source": [
        "<a href=\"https://colab.research.google.com/github/IAmNamNguyen/Python/blob/main/C%C3%A1c_h%C3%A0m_trong_Python.ipynb\" target=\"_parent\"><img src=\"https://colab.research.google.com/assets/colab-badge.svg\" alt=\"Open In Colab\"/></a>"
      ]
    },
    {
      "cell_type": "markdown",
      "source": [
        "# replace()\n",
        "\n",
        "Phương thức replace() trong Python trả về một bản sao của chuỗi ban đầu sau khi đã thay thế các chuỗi con cũ bằng chuỗi con mới. Cú pháp của phương thức là:\n",
        "\n",
        "```\n",
        "string.replace(old, new, count)\n",
        "```\n",
        "Trong đó:\n",
        "\n",
        "string: Chuỗi\n",
        "\n",
        "old: Đây là chuỗi con cũ để được thay thế.\n",
        "\n",
        "new: Đây là chuỗi con mới để thay thế cho chuỗi con cũ.\n",
        "\n",
        "count: Nếu tham số này được cung cấp, thì chỉ có các sự xuất hiện đầu tiên được thay thế. Nếu không có giá trị mặc định là -1, có nghĩa là tất cả các sự xuất hiện sẽ được thay thế."
      ],
      "metadata": {
        "id": "s2yx3psu-Phz"
      }
    },
    {
      "cell_type": "markdown",
      "source": [
        "Đây là một số ví dụ về cách sử dụng replace() trong Python:"
      ],
      "metadata": {
        "id": "rC4GW6sSADnM"
      }
    },
    {
      "cell_type": "code",
      "execution_count": null,
      "metadata": {
        "id": "fcxV1BJCDvTV"
      },
      "outputs": [],
      "source": [
        "# Thay thế tất cả các ký tự 'a' bằng 'e'\n",
        "s = \"banana\"\n",
        "s = s.replace(\"a\", \"e\")\n",
        "print(s)\n",
        "# Kết quả: benene"
      ]
    },
    {
      "cell_type": "code",
      "source": [
        "# Thay thế tối đa 2 lần\n",
        "s = \"banana\"\n",
        "s = s.replace(\"a\", \"e\", 2)\n",
        "print(s)\n",
        "# Kết quả: benena"
      ],
      "metadata": {
        "id": "53cOikxJAVNW"
      },
      "execution_count": null,
      "outputs": []
    },
    {
      "cell_type": "code",
      "source": [
        "# Thay thế chuỗi con 'an' bằng 'ee'\n",
        "s = \"banana\"\n",
        "s = s.replace(\"an\", \"ee\")\n",
        "print(s)\n",
        "# Kết quả: beenee"
      ],
      "metadata": {
        "id": "AiHGxk4kAYSb"
      },
      "execution_count": null,
      "outputs": []
    },
    {
      "cell_type": "markdown",
      "source": [
        "Bài tập điển hình:\n",
        "Nhập 1 chuỗi S từ bàn phím, sau đó:\n",
        "\n",
        "1. Loại bỏ các chữ a trong chuỗi\n",
        "\n",
        "2. Thay toàn bộ số 2 trong chuỗi thành 10A2"
      ],
      "metadata": {
        "id": "C-vm5WGCAaWP"
      }
    },
    {
      "cell_type": "code",
      "source": [
        "#Nhập S:\n",
        "S = input(\"Nhập chuỗi S: \") # S = abcde2456\n",
        "#Loại bỏ hoàn toàn a trong S\n",
        "S = S.replace(\"a\", \"\")\n",
        "# Thay thế chuỗi '2' bằng '10A2'\n",
        "S = S.replace(\"2\",\"10A2\")\n",
        "#Kết quả: bcde10A2456\n",
        "print(S)"
      ],
      "metadata": {
        "colab": {
          "base_uri": "https://localhost:8080/"
        },
        "id": "6QpgCwfbAxSE",
        "outputId": "a4a52bbe-f191-42dc-948b-5dae68285e1b"
      },
      "execution_count": 1,
      "outputs": [
        {
          "output_type": "stream",
          "name": "stdout",
          "text": [
            "Nhập chuỗi S: abcde2456\n",
            "bcde10A2456\n"
          ]
        }
      ]
    }
  ]
}